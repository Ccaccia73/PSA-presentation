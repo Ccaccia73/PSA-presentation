{
 "cells": [
  {
   "cell_type": "markdown",
   "metadata": {
    "slideshow": {
     "slide_type": "slide"
    }
   },
   "source": [
    "# Structural Optimization\n"
   ]
  },
  {
   "cell_type": "markdown",
   "metadata": {
    "slideshow": {
     "slide_type": "subslide"
    }
   },
   "source": [
    "* pippo\n",
    "* pluto\n",
    "* paperino"
   ]
  },
  {
   "cell_type": "markdown",
   "metadata": {
    "slideshow": {
     "slide_type": "slide"
    }
   },
   "source": [
    "# cdf"
   ]
  },
  {
   "cell_type": "code",
   "execution_count": 1,
   "metadata": {
    "collapsed": true,
    "slideshow": {
     "slide_type": "fragment"
    }
   },
   "outputs": [],
   "source": [
    "import numpy as np"
   ]
  }
 ],
 "metadata": {
  "celltoolbar": "Slideshow",
  "kernelspec": {
   "display_name": "Python 3",
   "language": "python",
   "name": "python3"
  },
  "language_info": {
   "codemirror_mode": {
    "name": "ipython",
    "version": 3
   },
   "file_extension": ".py",
   "mimetype": "text/x-python",
   "name": "python",
   "nbconvert_exporter": "python",
   "pygments_lexer": "ipython3",
   "version": "3.5.1"
  },
  "nbpresent": {
   "slides": {
    "756a6c64-23f8-491b-8d2c-31feac6d30fa": {
     "id": "756a6c64-23f8-491b-8d2c-31feac6d30fa",
     "layout": "grid",
     "prev": null,
     "regions": {}
    },
    "bf2bea1e-c163-4829-b8ff-436d8085eb17": {
     "id": "bf2bea1e-c163-4829-b8ff-436d8085eb17",
     "prev": "756a6c64-23f8-491b-8d2c-31feac6d30fa",
     "regions": {
      "17960ae0-bf73-46b5-a02a-1e4cf0e2c151": {
       "attrs": {
        "height": 1,
        "width": 1,
        "x": 0,
        "y": 0
       },
       "id": "17960ae0-bf73-46b5-a02a-1e4cf0e2c151"
      }
     }
    }
   },
   "themes": {}
  }
 },
 "nbformat": 4,
 "nbformat_minor": 0
}
